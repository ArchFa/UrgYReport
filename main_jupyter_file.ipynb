{
 "cells": [
  {
   "cell_type": "code",
   "execution_count": 1,
   "metadata": {},
   "outputs": [],
   "source": [
    "import pandas as pd\n",
    "import streamlit as st\n",
    "import plotly.express as px\n",
    "import numpy as np\n"
   ]
  },
  {
   "cell_type": "code",
   "execution_count": 2,
   "metadata": {},
   "outputs": [],
   "source": [
    "################################### параметры страницы ###################################"
   ]
  },
  {
   "cell_type": "code",
   "execution_count": 3,
   "metadata": {},
   "outputs": [
    {
     "name": "stderr",
     "output_type": "stream",
     "text": [
      "2022-07-12 16:54:48.963 \n",
      "  \u001b[33m\u001b[1mWarning:\u001b[0m to view this Streamlit app on a browser, run it with the following\n",
      "  command:\n",
      "\n",
      "    streamlit run /Users/arturfattahov/Library/Python/3.10/lib/python/site-packages/ipykernel_launcher.py [ARGUMENTS]\n"
     ]
    },
    {
     "data": {
      "text/plain": [
       "DeltaGenerator(_root_container=0, _provided_cursor=None, _parent=None, _block_type=None, _form_data=None)"
      ]
     },
     "execution_count": 3,
     "metadata": {},
     "output_type": "execute_result"
    }
   ],
   "source": [
    "st.title(\"Дашборд UrgY\")"
   ]
  },
  {
   "cell_type": "code",
   "execution_count": 4,
   "metadata": {},
   "outputs": [],
   "source": [
    "################################### основные вычисления ###################################"
   ]
  },
  {
   "cell_type": "code",
   "execution_count": 5,
   "metadata": {},
   "outputs": [],
   "source": [
    "count_task = st.file_uploader(\"Выбирете файл\")\n",
    "\n",
    "\n",
    "use_example_file = st.checkbox(\n",
    "    \"Использовать пример выгрузки\", False, help=\"Будет использована базовая выгрузка, c 1 апреля по 1 июля\"\n",
    ")\n",
    "\n",
    "# использование примера файла\n",
    "if use_example_file:\n",
    "    count_task = \"offers_statuses_04_01_07_01.txt\"\n",
    "\n",
    "# использование загруженного файла\n",
    "if count_task:\n",
    "    df = pd.read_csv(count_task, sep='|')\n",
    "    df = df.dropna()\n",
    "\n",
    "    df.columns = ['offer_id', 'offer_created_at','platform','count_responds', 'count_prematch']\n",
    "\n",
    "    df['offer_created_at'] = pd.to_datetime(df['offer_created_at'])\n",
    "    df.offer_created_at = df.offer_created_at.values.astype('M8[D]')\n",
    "\n",
    "    df['count_responds'] = df['count_responds'].astype(int)\n",
    "    df['count_prematch'] = df['count_prematch'].astype(int)\n",
    "\n",
    "    df['platform'] = df['platform'].str.strip()\n",
    "\n",
    "st.info(\n",
    "        f\"\"\"\n",
    "             👆 Загрузите файл с расширением csv или txt. В файле должны стого содержаться следующие столбцы:\n",
    "             - id оффера\n",
    "             - дата создания оффера\n",
    "             - платформа создания оффера\n",
    "             - количество прематчей на задачу\n",
    "             - количество матчей на задачу\n",
    "             \"\"\"\n",
    "    )\n",
    "\n",
    "if not count_task or not use_example_file:\n",
    "        st.stop()"
   ]
  },
  {
   "cell_type": "code",
   "execution_count": 6,
   "metadata": {},
   "outputs": [],
   "source": [
    "df['month'] = df['offer_created_at'].dt.month"
   ]
  },
  {
   "cell_type": "code",
   "execution_count": 7,
   "metadata": {},
   "outputs": [],
   "source": [
    "# df = pd.read_csv(\"/Users/arturfattahov/Downloads/Telegram Desktop/offers_statuses_04_01_07_01.txt\", sep='|')\n",
    "\n",
    "# df = df.dropna()\n",
    "\n",
    "# df.columns = ['offer_id', 'offer_created_at','platform','count_responds', 'count_prematch']\n",
    "\n",
    "# df['offer_created_at'] = pd.to_datetime(df['offer_created_at'])\n",
    "# df.offer_created_at = df.offer_created_at.values.astype('M8[D]')\n",
    "\n",
    "# df['count_responds'] = df['count_responds'].astype(int)\n",
    "# df['count_prematch'] = df['count_prematch'].astype(int)\n",
    "\n",
    "# df['platform'] = df['platform'].str.strip()\n",
    "# df['month'] = df['offer_created_at'].dt.month"
   ]
  },
  {
   "cell_type": "code",
   "execution_count": 8,
   "metadata": {},
   "outputs": [],
   "source": [
    "months = {\n",
    "        1: 'Январь',\n",
    "        2: 'Февраль',\n",
    "        3: 'Март',\n",
    "        4: 'Апрель',\n",
    "        5: 'Май',\n",
    "        6: 'Июнь',\n",
    "        7: 'Июль',\n",
    "        8: 'Август',\n",
    "        9: 'Сентябрь',\n",
    "        10: 'Октябрь',\n",
    "        11: 'Ноябрь',\n",
    "        12: 'Декабрь'\n",
    "    }\n",
    "df['month'] = df['month'].apply(lambda x: months[x])"
   ]
  },
  {
   "cell_type": "code",
   "execution_count": 9,
   "metadata": {},
   "outputs": [],
   "source": [
    "################################## Количество созданных офферов в месяц с разделением по платформе\n",
    "# создание датафрейма для графика \"Количество созданных офферов в месяц\"\n",
    "\n",
    "offers_count_month = (\n",
    "    df.query('platform != \"''\"')\n",
    "    .pivot_table(index=[\"month\", \"platform\"], values='offer_id', aggfunc='count'))\n",
    "\n",
    "offers_count_month = offers_count_month.reset_index()"
   ]
  },
  {
   "cell_type": "code",
   "execution_count": 10,
   "metadata": {},
   "outputs": [],
   "source": [
    "df_mobile = df\n",
    "################################## Процент офферов через приложение\n",
    "# меняем ios и android на mobile\n",
    "\n",
    "df_mobile['platform'] = np.where((df_mobile.platform == \"ios\"), \"mobile\", df_mobile.platform)\n",
    "df_mobile['platform'] = np.where((df_mobile.platform == \"android\"), \"mobile\", df_mobile.platform)\n",
    "\n",
    "\n",
    "# датафрейм со всеми задачами в месяц, без разделения по платформам\n",
    "all_task_month = (\n",
    "    df_mobile.query('platform != \"''\"')\n",
    "    .pivot_table(index=[\"month\"], values='offer_id', aggfunc='count'))\n",
    "all_task_month = all_task_month.reset_index()\n",
    "\n",
    "\n",
    "# датафрейм с задачами через мобильное приложение\n",
    "percentage_tasks_mobile = (\n",
    "    df_mobile.query('platform == \"mobile\"')\n",
    "    .pivot_table(index=[\"month\"], values='offer_id', aggfunc='count'))\n",
    "percentage_tasks_mobile = percentage_tasks_mobile.reset_index()\n",
    "\n",
    "\n",
    "# мердж двух таблиц\n",
    "percentage_tasks_mobile = percentage_tasks_mobile.merge(all_task_month, left_on='month', right_on='month')\n",
    "percentage_tasks_mobile.columns = ['month', 'mobile', 'all']\n",
    "\n",
    "\n",
    "# рассчет процентов задач через приложение\n",
    "percentage_tasks_mobile['percentage_mobile'] = percentage_tasks_mobile['mobile'] * 100 / percentage_tasks_mobile['all']\n",
    "percentage_tasks_mobile['percentage_mobile'] = percentage_tasks_mobile['percentage_mobile'].round(2)"
   ]
  },
  {
   "cell_type": "code",
   "execution_count": 11,
   "metadata": {},
   "outputs": [],
   "source": [
    "сount_responds = (\n",
    "    df.query('platform != \"''\"')\n",
    "    .pivot_table(index=[\"month\"], values='count_responds', aggfunc='sum'))\n",
    "сount_responds = сount_responds.reset_index()"
   ]
  },
  {
   "cell_type": "code",
   "execution_count": 45,
   "metadata": {},
   "outputs": [],
   "source": [
    "сount_prematch = (\n",
    "    df.query('platform != \"''\"')\n",
    "    .pivot_table(index=[\"month\"], values='count_prematch', aggfunc='sum'))\n",
    "сount_prematch = сount_prematch.reset_index()"
   ]
  },
  {
   "cell_type": "code",
   "execution_count": 57,
   "metadata": {},
   "outputs": [],
   "source": [
    "percentage_tasks_with_response = (\n",
    "    df.query('platform != \"''\" & count_responds > 0')\n",
    "    .pivot_table(index=[\"month\"], values='count_prematch', aggfunc='count'))\n",
    "percentage_tasks_with_response = percentage_tasks_with_response.reset_index()\n",
    "\n",
    "\n",
    "\n",
    "percentage_tasks_with_response = percentage_tasks_with_response.merge(all_task_month, left_on='month', right_on='month')\n",
    "percentage_tasks_with_response = percentage_tasks_with_response.rename(columns={'offer_id': 'count_no_prematch'})\n",
    "\n",
    "\n",
    "# рассчет процентов задач через приложение\n",
    "percentage_tasks_with_response['percentage_otklik'] = percentage_tasks_with_response['count_prematch'] * 100 / percentage_tasks_with_response['count_no_prematch']\n",
    "percentage_tasks_with_response['percentage_otklik'] = percentage_tasks_with_response['percentage_otklik'].round(2)"
   ]
  },
  {
   "cell_type": "code",
   "execution_count": 13,
   "metadata": {},
   "outputs": [],
   "source": [
    "################################### графики и отображаемые элементы ###################################"
   ]
  },
  {
   "cell_type": "code",
   "execution_count": 14,
   "metadata": {},
   "outputs": [
    {
     "data": {
      "text/plain": [
       "DeltaGenerator(_root_container=0, _provided_cursor=None, _parent=None, _block_type=None, _form_data=None)"
      ]
     },
     "execution_count": 14,
     "metadata": {},
     "output_type": "execute_result"
    }
   ],
   "source": [
    "# bar \"Количество созданных офферов в месяц\"\n",
    "\n",
    "cx = px.bar(offers_count_month, x='month', y='offer_id',\n",
    "            color='platform',\n",
    "            height=700,\n",
    "            width=1200,\n",
    "            title=\"Количество созданных офферов в месяц\",\n",
    "            labels={'offer_id':'Количество созданных офферов', 'platform':'Платформа создания', 'month':'Месяц'},\n",
    "            barmode = 'group',\n",
    "            text_auto=True)\n",
    "st.plotly_chart(cx)"
   ]
  },
  {
   "cell_type": "code",
   "execution_count": 15,
   "metadata": {},
   "outputs": [
    {
     "data": {
      "text/plain": [
       "DeltaGenerator(_root_container=0, _provided_cursor=None, _parent=None, _block_type=None, _form_data=None)"
      ]
     },
     "execution_count": 15,
     "metadata": {},
     "output_type": "execute_result"
    }
   ],
   "source": [
    "# bar Процент офферов через приложение\n",
    "\n",
    "cxx = px.bar(percentage_tasks_mobile, x='month', y='percentage_mobile',\n",
    "            height=700,\n",
    "            width=1200,\n",
    "            title=\"Процент офферов через приложение\",\n",
    "            labels={'month':'Месяц', 'percentage_mobile':'Процент задач через приложение'},\n",
    "            text_auto=True)\n",
    "st.plotly_chart(cxx)"
   ]
  },
  {
   "cell_type": "code",
   "execution_count": 19,
   "metadata": {},
   "outputs": [
    {
     "data": {
      "text/plain": [
       "DeltaGenerator(_root_container=0, _provided_cursor=None, _parent=None, _block_type=None, _form_data=None)"
      ]
     },
     "execution_count": 19,
     "metadata": {},
     "output_type": "execute_result"
    }
   ],
   "source": [
    "# bar Процент офферов через приложение\n",
    "\n",
    "cxxx = px.bar(сount_responds, x='month', y='count_responds',\n",
    "            height=700,\n",
    "            width=1200,\n",
    "            title=\"Процент офферов через приложение\",\n",
    "            labels={'month':'Месяц', 'count_responds':'Количество откликов'},\n",
    "            text_auto=True)\n",
    "st.plotly_chart(cxxx)"
   ]
  },
  {
   "cell_type": "code",
   "execution_count": 20,
   "metadata": {},
   "outputs": [
    {
     "data": {
      "text/plain": [
       "DeltaGenerator(_root_container=0, _provided_cursor=None, _parent=None, _block_type=None, _form_data=None)"
      ]
     },
     "execution_count": 20,
     "metadata": {},
     "output_type": "execute_result"
    }
   ],
   "source": [
    "# bar Процент офферов через приложение\n",
    "\n",
    "cxxxx = px.bar(сount_prematch, x='month', y='count_prematch',\n",
    "            height=700,\n",
    "            width=1200,\n",
    "            title=\"Количество матчей\",\n",
    "            labels={'month':'Месяц', 'count_prematch':'Количество матчей'},\n",
    "            text_auto=True)\n",
    "st.plotly_chart(cxxxx)"
   ]
  },
  {
   "cell_type": "code",
   "execution_count": 65,
   "metadata": {},
   "outputs": [
    {
     "data": {
      "text/plain": [
       "DeltaGenerator(_root_container=0, _provided_cursor=None, _parent=None, _block_type=None, _form_data=None)"
      ]
     },
     "execution_count": 65,
     "metadata": {},
     "output_type": "execute_result"
    }
   ],
   "source": [
    "# bar Процент офферов через приложение\n",
    "\n",
    "cxxxxx = px.bar(percentage_tasks_with_response, x='month', y='percentage_otklik',\n",
    "            height=700,\n",
    "            width=1200,\n",
    "            title=\"Процент задач с откликом\",\n",
    "            labels={'month':'Месяц', 'percentage_otklik':'Процент задач с откликом'},\n",
    "            text_auto=True)\n",
    "cxxxxx.update_yaxes(range=[0, 100])\n",
    "st.plotly_chart(cxxxxx)"
   ]
  },
  {
   "cell_type": "code",
   "execution_count": null,
   "metadata": {},
   "outputs": [],
   "source": []
  }
 ],
 "metadata": {
  "interpreter": {
   "hash": "aee8b7b246df8f9039afb4144a1f6fd8d2ca17a180786b69acc140d282b71a49"
  },
  "kernelspec": {
   "display_name": "Python 3.10.4 64-bit",
   "language": "python",
   "name": "python3"
  },
  "language_info": {
   "codemirror_mode": {
    "name": "ipython",
    "version": 3
   },
   "file_extension": ".py",
   "mimetype": "text/x-python",
   "name": "python",
   "nbconvert_exporter": "python",
   "pygments_lexer": "ipython3",
   "version": "3.10.4"
  },
  "orig_nbformat": 4
 },
 "nbformat": 4,
 "nbformat_minor": 2
}
