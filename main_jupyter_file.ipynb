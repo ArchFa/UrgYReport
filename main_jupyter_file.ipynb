{
 "cells": [
  {
   "cell_type": "code",
   "execution_count": 4,
   "metadata": {},
   "outputs": [],
   "source": [
    "import pandas as pd\n",
    "import streamlit as st"
   ]
  },
  {
   "cell_type": "code",
   "execution_count": 2,
   "metadata": {},
   "outputs": [],
   "source": [
    "################################### параметры страницы ###################################"
   ]
  },
  {
   "cell_type": "code",
   "execution_count": 7,
   "metadata": {},
   "outputs": [
    {
     "data": {
      "text/plain": [
       "DeltaGenerator(_root_container=0, _provided_cursor=None, _parent=None, _block_type=None, _form_data=None)"
      ]
     },
     "execution_count": 7,
     "metadata": {},
     "output_type": "execute_result"
    }
   ],
   "source": [
    "st.title(\"Дашборд UrgY\")"
   ]
  },
  {
   "cell_type": "code",
   "execution_count": 6,
   "metadata": {},
   "outputs": [],
   "source": [
    "################################### основные вычисления ###################################"
   ]
  },
  {
   "cell_type": "code",
   "execution_count": 8,
   "metadata": {},
   "outputs": [
    {
     "ename": "StopException",
     "evalue": "",
     "output_type": "error",
     "traceback": [
      "\u001b[0;31m---------------------------------------------------------------------------\u001b[0m",
      "\u001b[0;31mStopException\u001b[0m                             Traceback (most recent call last)",
      "\u001b[1;32m/Users/arturfattahov/UrgYReport/main_jupyter_file.ipynb Cell 5'\u001b[0m in \u001b[0;36m<module>\u001b[0;34m\u001b[0m\n\u001b[1;32m     <a href='vscode-notebook-cell:/Users/arturfattahov/UrgYReport/main_jupyter_file.ipynb#ch0000002?line=26'>27</a>\u001b[0m st\u001b[39m.\u001b[39minfo(\n\u001b[1;32m     <a href='vscode-notebook-cell:/Users/arturfattahov/UrgYReport/main_jupyter_file.ipynb#ch0000002?line=27'>28</a>\u001b[0m         \u001b[39mf\u001b[39m\u001b[39m\"\"\"\u001b[39m\n\u001b[1;32m     <a href='vscode-notebook-cell:/Users/arturfattahov/UrgYReport/main_jupyter_file.ipynb#ch0000002?line=28'>29</a>\u001b[0m \u001b[39m             👆 Загрузите файл с расширением csv или txt. В файле должны стого содержаться следующие столбцы:\u001b[39m\n\u001b[0;32m   (...)\u001b[0m\n\u001b[1;32m     <a href='vscode-notebook-cell:/Users/arturfattahov/UrgYReport/main_jupyter_file.ipynb#ch0000002?line=34'>35</a>\u001b[0m \u001b[39m             \u001b[39m\u001b[39m\"\"\"\u001b[39m\n\u001b[1;32m     <a href='vscode-notebook-cell:/Users/arturfattahov/UrgYReport/main_jupyter_file.ipynb#ch0000002?line=35'>36</a>\u001b[0m     )\n\u001b[1;32m     <a href='vscode-notebook-cell:/Users/arturfattahov/UrgYReport/main_jupyter_file.ipynb#ch0000002?line=37'>38</a>\u001b[0m \u001b[39mif\u001b[39;00m \u001b[39mnot\u001b[39;00m uploaded_file \u001b[39mor\u001b[39;00m \u001b[39mnot\u001b[39;00m use_example_file:\n\u001b[0;32m---> <a href='vscode-notebook-cell:/Users/arturfattahov/UrgYReport/main_jupyter_file.ipynb#ch0000002?line=38'>39</a>\u001b[0m         st\u001b[39m.\u001b[39;49mstop()\n",
      "File \u001b[0;32m/Library/Frameworks/Python.framework/Versions/3.10/lib/python3.10/site-packages/streamlit/__init__.py:492\u001b[0m, in \u001b[0;36mstop\u001b[0;34m()\u001b[0m\n\u001b[1;32m    <a href='file:///Library/Frameworks/Python.framework/Versions/3.10/lib/python3.10/site-packages/streamlit/__init__.py?line=474'>475</a>\u001b[0m \u001b[39mdef\u001b[39;00m \u001b[39mstop\u001b[39m() \u001b[39m-\u001b[39m\u001b[39m>\u001b[39m NoReturn:\n\u001b[1;32m    <a href='file:///Library/Frameworks/Python.framework/Versions/3.10/lib/python3.10/site-packages/streamlit/__init__.py?line=475'>476</a>\u001b[0m     \u001b[39m\"\"\"Stops execution immediately.\u001b[39;00m\n\u001b[1;32m    <a href='file:///Library/Frameworks/Python.framework/Versions/3.10/lib/python3.10/site-packages/streamlit/__init__.py?line=476'>477</a>\u001b[0m \n\u001b[1;32m    <a href='file:///Library/Frameworks/Python.framework/Versions/3.10/lib/python3.10/site-packages/streamlit/__init__.py?line=477'>478</a>\u001b[0m \u001b[39m    Streamlit will not run any statements after `st.stop()`.\u001b[39;00m\n\u001b[0;32m   (...)\u001b[0m\n\u001b[1;32m    <a href='file:///Library/Frameworks/Python.framework/Versions/3.10/lib/python3.10/site-packages/streamlit/__init__.py?line=489'>490</a>\u001b[0m \n\u001b[1;32m    <a href='file:///Library/Frameworks/Python.framework/Versions/3.10/lib/python3.10/site-packages/streamlit/__init__.py?line=490'>491</a>\u001b[0m \u001b[39m    \"\"\"\u001b[39;00m\n\u001b[0;32m--> <a href='file:///Library/Frameworks/Python.framework/Versions/3.10/lib/python3.10/site-packages/streamlit/__init__.py?line=491'>492</a>\u001b[0m     \u001b[39mraise\u001b[39;00m StopException()\n",
      "\u001b[0;31mStopException\u001b[0m: "
     ]
    }
   ],
   "source": [
    "uploaded_file = st.file_uploader(\"Выбирете файл\")\n",
    "\n",
    "\n",
    "use_example_file = st.checkbox(\n",
    "    \"Использовать пример выгрузки\", False, help=\"Будет использована базовая выгрузка, c 1 апреля по 1 июля\"\n",
    ")\n",
    "\n",
    "# использование примера файла\n",
    "if use_example_file:\n",
    "    count_task = \"offers_statuses (3).txt\"\n",
    "\n",
    "# использование загруженного файла\n",
    "if uploaded_file:\n",
    "    df = pd.read_csv(count_task, sep='|')\n",
    "    df = df.dropna()\n",
    "\n",
    "    df.columns = ['offer_id', 'offer_created_at','platform','count_responds', 'count_prematch']\n",
    "\n",
    "    df['offer_created_at'] = pd.to_datetime(df['offer_created_at'])\n",
    "    df.offer_created_at = df.offer_created_at.values.astype('M8[D]')\n",
    "\n",
    "    df['count_responds'] = df['count_responds'].astype(int)\n",
    "    df['count_prematch'] = df['count_prematch'].astype(int)\n",
    "\n",
    "    df['platform'] = df['platform'].str.strip()\n",
    "    st.dataframe(df.head())\n",
    "\n",
    "st.info(\n",
    "        f\"\"\"\n",
    "             👆 Загрузите файл с расширением csv или txt. В файле должны стого содержаться следующие столбцы:\n",
    "             - id оффера\n",
    "             - дата создания оффера\n",
    "             - платформа создания оффера\n",
    "             - количество прематчей на задачу\n",
    "             - количество матчей на задачу\n",
    "             \"\"\"\n",
    "    )\n",
    "\n",
    "if not uploaded_file or not use_example_file:\n",
    "        st.stop()"
   ]
  },
  {
   "cell_type": "code",
   "execution_count": null,
   "metadata": {},
   "outputs": [],
   "source": []
  }
 ],
 "metadata": {
  "interpreter": {
   "hash": "aee8b7b246df8f9039afb4144a1f6fd8d2ca17a180786b69acc140d282b71a49"
  },
  "kernelspec": {
   "display_name": "Python 3.10.4 64-bit",
   "language": "python",
   "name": "python3"
  },
  "language_info": {
   "codemirror_mode": {
    "name": "ipython",
    "version": 3
   },
   "file_extension": ".py",
   "mimetype": "text/x-python",
   "name": "python",
   "nbconvert_exporter": "python",
   "pygments_lexer": "ipython3",
   "version": "3.10.4"
  },
  "orig_nbformat": 4
 },
 "nbformat": 4,
 "nbformat_minor": 2
}
