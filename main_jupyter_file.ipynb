{
 "cells": [
  {
   "cell_type": "code",
   "execution_count": 1,
   "metadata": {},
   "outputs": [],
   "source": [
    "import pandas as pd\n",
    "import streamlit as st\n",
    "import plotly.express as px\n",
    "import numpy as np\n"
   ]
  },
  {
   "cell_type": "code",
   "execution_count": 2,
   "metadata": {},
   "outputs": [],
   "source": [
    "################################### параметры страницы ###################################"
   ]
  },
  {
   "cell_type": "code",
   "execution_count": 2,
   "metadata": {},
   "outputs": [
    {
     "name": "stderr",
     "output_type": "stream",
     "text": [
      "2022-07-13 12:39:23.373 \n",
      "  \u001b[33m\u001b[1mWarning:\u001b[0m to view this Streamlit app on a browser, run it with the following\n",
      "  command:\n",
      "\n",
      "    streamlit run /Users/arturfattahov/Library/Python/3.10/lib/python/site-packages/ipykernel_launcher.py [ARGUMENTS]\n"
     ]
    },
    {
     "data": {
      "text/plain": [
       "DeltaGenerator(_root_container=0, _provided_cursor=None, _parent=None, _block_type=None, _form_data=None)"
      ]
     },
     "execution_count": 2,
     "metadata": {},
     "output_type": "execute_result"
    }
   ],
   "source": [
    "st.title(\"Дашборд UrgY\")"
   ]
  },
  {
   "cell_type": "code",
   "execution_count": 4,
   "metadata": {},
   "outputs": [],
   "source": [
    "################################### основные вычисления ###################################"
   ]
  },
  {
   "cell_type": "code",
   "execution_count": 69,
   "metadata": {},
   "outputs": [],
   "source": [
    "count_task = st.file_uploader(\"Выбирете файл\")\n",
    "\n",
    "\n",
    "use_example_file = st.checkbox(\n",
    "    \"Использовать пример выгрузки\", False, help=\"Будет использована базовая выгрузка, c 1 апреля по 1 июля\"\n",
    ")\n",
    "\n",
    "# использование примера файла\n",
    "if use_example_file:\n",
    "    count_task = \"offers_statuses_04_01_07_01.txt\"\n",
    "\n",
    "# использование загруженного файла\n",
    "if count_task:\n",
    "    df = pd.read_csv(count_task, sep='|')\n",
    "    df = df.dropna()\n",
    "\n",
    "    df.columns = ['offer_id', 'offer_created_at','platform','count_responds', 'count_prematch']\n",
    "\n",
    "    df['offer_created_at'] = pd.to_datetime(df['offer_created_at'])\n",
    "    df.offer_created_at = df.offer_created_at.values.astype('M8[D]')\n",
    "\n",
    "    df['count_responds'] = df['count_responds'].astype(int)\n",
    "    df['count_prematch'] = df['count_prematch'].astype(int)\n",
    "\n",
    "    df['platform'] = df['platform'].str.strip()\n",
    "\n",
    "\n",
    "with st.expander(\"Требования к загружаемому файлу\"):\n",
    "     st.info(\n",
    "        \"\"\"\n",
    "             👆 Загрузите файл с расширением csv или txt. В файле должны стого содержаться следующие столбцы:\n",
    "             - id оффера\n",
    "             - дата создания оффера\n",
    "             - платформа создания оффера\n",
    "             - количество прематчей на задачу\n",
    "             - количество матчей на задачу\n",
    "             \"\"\"\n",
    "    )\n",
    "\n",
    "\n",
    "if not count_task or not use_example_file:\n",
    "        st.stop()"
   ]
  },
  {
   "cell_type": "code",
   "execution_count": 6,
   "metadata": {},
   "outputs": [],
   "source": [
    "df['month'] = df['offer_created_at'].dt.month"
   ]
  },
  {
   "cell_type": "code",
   "execution_count": 2,
   "metadata": {},
   "outputs": [],
   "source": [
    "# df = pd.read_csv(\"/Users/arturfattahov/Downloads/Telegram Desktop/offers_statuses_04_01_07_01.txt\", sep='|')\n",
    "\n",
    "# df = df.dropna()\n",
    "\n",
    "# df.columns = ['offer_id', 'offer_created_at','platform','count_responds', 'count_prematch']\n",
    "\n",
    "# df['offer_created_at'] = pd.to_datetime(df['offer_created_at'])\n",
    "# df.offer_created_at = df.offer_created_at.values.astype('M8[D]')\n",
    "\n",
    "# df['count_responds'] = df['count_responds'].astype(int)\n",
    "# df['count_prematch'] = df['count_prematch'].astype(int)\n",
    "\n",
    "# df['platform'] = df['platform'].str.strip()\n",
    "# df['month'] = df['offer_created_at'].dt.month"
   ]
  },
  {
   "cell_type": "code",
   "execution_count": 3,
   "metadata": {},
   "outputs": [],
   "source": [
    "months = {\n",
    "        1: 'Январь',\n",
    "        2: 'Февраль',\n",
    "        3: 'Март',\n",
    "        4: 'Апрель',\n",
    "        5: 'Май',\n",
    "        6: 'Июнь',\n",
    "        7: 'Июль',\n",
    "        8: 'Август',\n",
    "        9: 'Сентябрь',\n",
    "        10: 'Октябрь',\n",
    "        11: 'Ноябрь',\n",
    "        12: 'Декабрь'\n",
    "    }\n",
    "df['month_name'] = df['month'].apply(lambda x: months[x])"
   ]
  },
  {
   "cell_type": "code",
   "execution_count": 12,
   "metadata": {},
   "outputs": [
    {
     "data": {
      "text/plain": [
       "5"
      ]
     },
     "execution_count": 12,
     "metadata": {},
     "output_type": "execute_result"
    }
   ],
   "source": [
    "################################## информация о текущем месяце, сравнение с предыдущем\n",
    "\n"
   ]
  },
  {
   "cell_type": "code",
   "execution_count": 19,
   "metadata": {},
   "outputs": [],
   "source": [
    "last_month = df['month'].max()\n",
    "pre_last_month = df['month'].max() - 1\n",
    "\n",
    "# общее количество задач\n",
    "count_task_last_month_all = df.query('month == @last_month').count()[0]\n",
    "count_task_pre_last_month_all = df.query('month == @pre_last_month').count()[0]\n",
    "difference_all = str(count_task_last_month_all - count_task_pre_last_month_all)\n",
    "\n",
    "\n",
    "# задачи через Android\n",
    "count_task_last_month_android = df.query('month == @last_month & platform == \"android\"').count()[0]\n",
    "count_task_pre_last_month_android = df.query('month == @pre_last_month & platform == \"android\"').count()[0]\n",
    "difference_android = str(count_task_last_month_android - count_task_pre_last_month_android)\n",
    "\n",
    "\n",
    "# задачи через Admins\n",
    "count_task_last_month_admins = df.query('month == @last_month & platform == \"admins\"').count()[0]\n",
    "count_task_pre_last_month_admins = df.query('month == @pre_last_month & platform == \"admins\"').count()[0]\n",
    "difference_admins = str(count_task_last_month_admins - count_task_pre_last_month_admins)\n",
    "\n",
    "\n",
    "# задачи через iOS\n",
    "count_task_last_month_ios = df.query('month == @last_month & platform == \"ios\"').count()[0]\n",
    "count_task_pre_last_month_ios = df.query('month == @pre_last_month & platform == \"ios\"').count()[0]\n",
    "difference_ios = str(count_task_last_month_ios - count_task_pre_last_month_ios)\n",
    "\n",
    "# задачи через web\n",
    "count_task_last_month_web = df.query('month == @last_month & platform == \"web\"').count()[0]\n",
    "count_task_pre_last_month_web = df.query('month == @pre_last_month & platform == \"web\"').count()[0]\n",
    "difference_web = str(count_task_last_month_web - count_task_pre_last_month_web)\n"
   ]
  },
  {
   "cell_type": "code",
   "execution_count": 10,
   "metadata": {},
   "outputs": [
    {
     "data": {
      "text/html": [
       "<div>\n",
       "<style scoped>\n",
       "    .dataframe tbody tr th:only-of-type {\n",
       "        vertical-align: middle;\n",
       "    }\n",
       "\n",
       "    .dataframe tbody tr th {\n",
       "        vertical-align: top;\n",
       "    }\n",
       "\n",
       "    .dataframe thead th {\n",
       "        text-align: right;\n",
       "    }\n",
       "</style>\n",
       "<table border=\"1\" class=\"dataframe\">\n",
       "  <thead>\n",
       "    <tr style=\"text-align: right;\">\n",
       "      <th></th>\n",
       "      <th>offer_id</th>\n",
       "      <th>offer_created_at</th>\n",
       "      <th>platform</th>\n",
       "      <th>count_responds</th>\n",
       "      <th>count_prematch</th>\n",
       "      <th>month</th>\n",
       "      <th>month_name</th>\n",
       "    </tr>\n",
       "  </thead>\n",
       "  <tbody>\n",
       "    <tr>\n",
       "      <th>1</th>\n",
       "      <td>145092</td>\n",
       "      <td>2022-04-01</td>\n",
       "      <td>admins</td>\n",
       "      <td>0</td>\n",
       "      <td>0</td>\n",
       "      <td>4</td>\n",
       "      <td>Апрель</td>\n",
       "    </tr>\n",
       "    <tr>\n",
       "      <th>2</th>\n",
       "      <td>145093</td>\n",
       "      <td>2022-04-01</td>\n",
       "      <td>admins</td>\n",
       "      <td>4</td>\n",
       "      <td>4</td>\n",
       "      <td>4</td>\n",
       "      <td>Апрель</td>\n",
       "    </tr>\n",
       "    <tr>\n",
       "      <th>3</th>\n",
       "      <td>145094</td>\n",
       "      <td>2022-04-01</td>\n",
       "      <td>admins</td>\n",
       "      <td>5</td>\n",
       "      <td>5</td>\n",
       "      <td>4</td>\n",
       "      <td>Апрель</td>\n",
       "    </tr>\n",
       "    <tr>\n",
       "      <th>4</th>\n",
       "      <td>145095</td>\n",
       "      <td>2022-04-01</td>\n",
       "      <td>admins</td>\n",
       "      <td>2</td>\n",
       "      <td>2</td>\n",
       "      <td>4</td>\n",
       "      <td>Апрель</td>\n",
       "    </tr>\n",
       "    <tr>\n",
       "      <th>5</th>\n",
       "      <td>145096</td>\n",
       "      <td>2022-04-01</td>\n",
       "      <td>admins</td>\n",
       "      <td>2</td>\n",
       "      <td>2</td>\n",
       "      <td>4</td>\n",
       "      <td>Апрель</td>\n",
       "    </tr>\n",
       "    <tr>\n",
       "      <th>...</th>\n",
       "      <td>...</td>\n",
       "      <td>...</td>\n",
       "      <td>...</td>\n",
       "      <td>...</td>\n",
       "      <td>...</td>\n",
       "      <td>...</td>\n",
       "      <td>...</td>\n",
       "    </tr>\n",
       "    <tr>\n",
       "      <th>36343</th>\n",
       "      <td>181585</td>\n",
       "      <td>2022-06-30</td>\n",
       "      <td>admins</td>\n",
       "      <td>3</td>\n",
       "      <td>3</td>\n",
       "      <td>6</td>\n",
       "      <td>Июнь</td>\n",
       "    </tr>\n",
       "    <tr>\n",
       "      <th>36344</th>\n",
       "      <td>181586</td>\n",
       "      <td>2022-06-30</td>\n",
       "      <td>admins</td>\n",
       "      <td>5</td>\n",
       "      <td>5</td>\n",
       "      <td>6</td>\n",
       "      <td>Июнь</td>\n",
       "    </tr>\n",
       "    <tr>\n",
       "      <th>36345</th>\n",
       "      <td>181587</td>\n",
       "      <td>2022-06-30</td>\n",
       "      <td>android</td>\n",
       "      <td>5</td>\n",
       "      <td>1</td>\n",
       "      <td>6</td>\n",
       "      <td>Июнь</td>\n",
       "    </tr>\n",
       "    <tr>\n",
       "      <th>36346</th>\n",
       "      <td>181588</td>\n",
       "      <td>2022-06-30</td>\n",
       "      <td>admins</td>\n",
       "      <td>1</td>\n",
       "      <td>1</td>\n",
       "      <td>6</td>\n",
       "      <td>Июнь</td>\n",
       "    </tr>\n",
       "    <tr>\n",
       "      <th>36347</th>\n",
       "      <td>181589</td>\n",
       "      <td>2022-06-30</td>\n",
       "      <td>admins</td>\n",
       "      <td>1</td>\n",
       "      <td>1</td>\n",
       "      <td>6</td>\n",
       "      <td>Июнь</td>\n",
       "    </tr>\n",
       "  </tbody>\n",
       "</table>\n",
       "<p>36347 rows × 7 columns</p>\n",
       "</div>"
      ],
      "text/plain": [
       "         offer_id offer_created_at platform  count_responds  count_prematch  \\\n",
       "1         145092        2022-04-01   admins               0               0   \n",
       "2         145093        2022-04-01   admins               4               4   \n",
       "3         145094        2022-04-01   admins               5               5   \n",
       "4         145095        2022-04-01   admins               2               2   \n",
       "5         145096        2022-04-01   admins               2               2   \n",
       "...           ...              ...      ...             ...             ...   \n",
       "36343     181585        2022-06-30   admins               3               3   \n",
       "36344     181586        2022-06-30   admins               5               5   \n",
       "36345     181587        2022-06-30  android               5               1   \n",
       "36346     181588        2022-06-30   admins               1               1   \n",
       "36347     181589        2022-06-30   admins               1               1   \n",
       "\n",
       "       month month_name  \n",
       "1          4     Апрель  \n",
       "2          4     Апрель  \n",
       "3          4     Апрель  \n",
       "4          4     Апрель  \n",
       "5          4     Апрель  \n",
       "...      ...        ...  \n",
       "36343      6       Июнь  \n",
       "36344      6       Июнь  \n",
       "36345      6       Июнь  \n",
       "36346      6       Июнь  \n",
       "36347      6       Июнь  \n",
       "\n",
       "[36347 rows x 7 columns]"
      ]
     },
     "execution_count": 10,
     "metadata": {},
     "output_type": "execute_result"
    }
   ],
   "source": [
    "df"
   ]
  },
  {
   "cell_type": "code",
   "execution_count": null,
   "metadata": {},
   "outputs": [],
   "source": []
  },
  {
   "cell_type": "code",
   "execution_count": null,
   "metadata": {},
   "outputs": [],
   "source": []
  },
  {
   "cell_type": "code",
   "execution_count": null,
   "metadata": {},
   "outputs": [],
   "source": []
  },
  {
   "cell_type": "code",
   "execution_count": null,
   "metadata": {},
   "outputs": [],
   "source": []
  },
  {
   "cell_type": "code",
   "execution_count": 9,
   "metadata": {},
   "outputs": [],
   "source": [
    "################################## Количество созданных офферов в месяц с разделением по платформе\n",
    "# создание датафрейма для графика \"Количество созданных офферов в месяц\"\n",
    "\n",
    "offers_count_month = (\n",
    "    df.query('platform != \"''\"')\n",
    "    .pivot_table(index=[\"month_name\", \"platform\"], values='offer_id', aggfunc='count'))\n",
    "\n",
    "offers_count_month = offers_count_month.reset_index()"
   ]
  },
  {
   "cell_type": "code",
   "execution_count": 10,
   "metadata": {},
   "outputs": [],
   "source": [
    "df_mobile = df\n",
    "################################## Процент офферов через приложение\n",
    "# меняем ios и android на mobile\n",
    "\n",
    "df_mobile['platform'] = np.where((df_mobile.platform == \"ios\"), \"mobile\", df_mobile.platform)\n",
    "df_mobile['platform'] = np.where((df_mobile.platform == \"android\"), \"mobile\", df_mobile.platform)\n",
    "\n",
    "\n",
    "# датафрейм со всеми задачами в месяц, без разделения по платформам\n",
    "all_task_month = (\n",
    "    df_mobile.query('platform != \"''\"')\n",
    "    .pivot_table(index=[\"month_name\"], values='offer_id', aggfunc='count'))\n",
    "all_task_month = all_task_month.reset_index()\n",
    "\n",
    "\n",
    "# датафрейм с задачами через мобильное приложение\n",
    "percentage_tasks_mobile = (\n",
    "    df_mobile.query('platform == \"mobile\"')\n",
    "    .pivot_table(index=[\"month_name\"], values='offer_id', aggfunc='count'))\n",
    "percentage_tasks_mobile = percentage_tasks_mobile.reset_index()\n",
    "\n",
    "\n",
    "# мердж двух таблиц\n",
    "percentage_tasks_mobile = percentage_tasks_mobile.merge(all_task_month, left_on='month_name', right_on='month_name')\n",
    "percentage_tasks_mobile.columns = ['month_name', 'mobile', 'all']\n",
    "\n",
    "\n",
    "# рассчет процентов задач через приложение\n",
    "percentage_tasks_mobile['percentage_mobile'] = percentage_tasks_mobile['mobile'] * 100 / percentage_tasks_mobile['all']\n",
    "percentage_tasks_mobile['percentage_mobile'] = percentage_tasks_mobile['percentage_mobile'].round(2)"
   ]
  },
  {
   "cell_type": "code",
   "execution_count": 11,
   "metadata": {},
   "outputs": [],
   "source": [
    "сount_responds = (\n",
    "    df.query('platform != \"''\"')\n",
    "    .pivot_table(index=[\"month_name\"], values='count_responds', aggfunc='sum'))\n",
    "сount_responds = сount_responds.reset_index()"
   ]
  },
  {
   "cell_type": "code",
   "execution_count": 45,
   "metadata": {},
   "outputs": [],
   "source": [
    "сount_prematch = (\n",
    "    df.query('platform != \"''\"')\n",
    "    .pivot_table(index=[\"month_name\"], values='count_prematch', aggfunc='sum'))\n",
    "сount_prematch = сount_prematch.reset_index()"
   ]
  },
  {
   "cell_type": "code",
   "execution_count": 22,
   "metadata": {},
   "outputs": [
    {
     "ename": "NameError",
     "evalue": "name 'all_task_month' is not defined",
     "output_type": "error",
     "traceback": [
      "\u001b[0;31m---------------------------------------------------------------------------\u001b[0m",
      "\u001b[0;31mNameError\u001b[0m                                 Traceback (most recent call last)",
      "\u001b[1;32m/Users/arturfattahov/UrgYReport/main_jupyter_file.ipynb Cell 20'\u001b[0m in \u001b[0;36m<module>\u001b[0;34m\u001b[0m\n\u001b[1;32m      <a href='vscode-notebook-cell:/Users/arturfattahov/UrgYReport/main_jupyter_file.ipynb#ch0000073?line=0'>1</a>\u001b[0m percentage_tasks_with_response \u001b[39m=\u001b[39m (\n\u001b[1;32m      <a href='vscode-notebook-cell:/Users/arturfattahov/UrgYReport/main_jupyter_file.ipynb#ch0000073?line=1'>2</a>\u001b[0m     df\u001b[39m.\u001b[39mquery(\u001b[39m'\u001b[39m\u001b[39mplatform != \u001b[39m\u001b[39m\"\u001b[39m\u001b[39m'\u001b[39m\u001b[39m'\u001b[39m\u001b[39m\"\u001b[39m\u001b[39m & count_responds > 0\u001b[39m\u001b[39m'\u001b[39m)\n\u001b[1;32m      <a href='vscode-notebook-cell:/Users/arturfattahov/UrgYReport/main_jupyter_file.ipynb#ch0000073?line=2'>3</a>\u001b[0m     \u001b[39m.\u001b[39mpivot_table(index\u001b[39m=\u001b[39m[\u001b[39m\"\u001b[39m\u001b[39mmonth_name\u001b[39m\u001b[39m\"\u001b[39m], values\u001b[39m=\u001b[39m\u001b[39m'\u001b[39m\u001b[39mcount_prematch\u001b[39m\u001b[39m'\u001b[39m, aggfunc\u001b[39m=\u001b[39m\u001b[39m'\u001b[39m\u001b[39mcount\u001b[39m\u001b[39m'\u001b[39m))\n\u001b[1;32m      <a href='vscode-notebook-cell:/Users/arturfattahov/UrgYReport/main_jupyter_file.ipynb#ch0000073?line=3'>4</a>\u001b[0m percentage_tasks_with_response \u001b[39m=\u001b[39m percentage_tasks_with_response\u001b[39m.\u001b[39mreset_index()\n\u001b[0;32m----> <a href='vscode-notebook-cell:/Users/arturfattahov/UrgYReport/main_jupyter_file.ipynb#ch0000073?line=7'>8</a>\u001b[0m percentage_tasks_with_response \u001b[39m=\u001b[39m percentage_tasks_with_response\u001b[39m.\u001b[39mmerge(all_task_month, left_on\u001b[39m=\u001b[39m\u001b[39m'\u001b[39m\u001b[39mmonth_name\u001b[39m\u001b[39m'\u001b[39m, right_on\u001b[39m=\u001b[39m\u001b[39m'\u001b[39m\u001b[39mmonth_name\u001b[39m\u001b[39m'\u001b[39m)\n\u001b[1;32m      <a href='vscode-notebook-cell:/Users/arturfattahov/UrgYReport/main_jupyter_file.ipynb#ch0000073?line=8'>9</a>\u001b[0m percentage_tasks_with_response \u001b[39m=\u001b[39m percentage_tasks_with_response\u001b[39m.\u001b[39mrename(columns\u001b[39m=\u001b[39m{\u001b[39m'\u001b[39m\u001b[39moffer_id\u001b[39m\u001b[39m'\u001b[39m: \u001b[39m'\u001b[39m\u001b[39mcount_no_prematch\u001b[39m\u001b[39m'\u001b[39m})\n\u001b[1;32m     <a href='vscode-notebook-cell:/Users/arturfattahov/UrgYReport/main_jupyter_file.ipynb#ch0000073?line=11'>12</a>\u001b[0m \u001b[39m# рассчет процентов задач через приложение\u001b[39;00m\n",
      "\u001b[0;31mNameError\u001b[0m: name 'all_task_month' is not defined"
     ]
    }
   ],
   "source": [
    "percentage_tasks_with_response = (\n",
    "    df.query('platform != \"''\" & count_responds > 0')\n",
    "    .pivot_table(index=[\"month_name\"], values='count_prematch', aggfunc='count'))\n",
    "percentage_tasks_with_response = percentage_tasks_with_response.reset_index()\n",
    "\n",
    "\n",
    "\n",
    "percentage_tasks_with_response = percentage_tasks_with_response.merge(all_task_month, left_on='month_name', right_on='month_name')\n",
    "percentage_tasks_with_response = percentage_tasks_with_response.rename(columns={'offer_id': 'count_no_prematch'})\n",
    "\n",
    "\n",
    "# рассчет процентов задач через приложение\n",
    "percentage_tasks_with_response['percentage_otklik'] = percentage_tasks_with_response['count_prematch'] * 100 / percentage_tasks_with_response['count_no_prematch']\n",
    "percentage_tasks_with_response['percentage_otklik'] = percentage_tasks_with_response['percentage_otklik'].round(0)"
   ]
  },
  {
   "cell_type": "code",
   "execution_count": 13,
   "metadata": {},
   "outputs": [],
   "source": [
    "################################### графики и отображаемые элементы ###################################"
   ]
  },
  {
   "cell_type": "code",
   "execution_count": 21,
   "metadata": {},
   "outputs": [
    {
     "data": {
      "text/plain": [
       "'DeltaGenerator(_root_container=0, _provided_cursor=None, _parent=None, _block_type=None, _form_data=None)'"
      ]
     },
     "execution_count": 21,
     "metadata": {},
     "output_type": "execute_result"
    }
   ],
   "source": [
    "# метрики с количеством задач\n",
    "\n",
    "col1, col2, col3, col4, col5 = st.columns(5)\n",
    "col1.metric(\"All\", count_task_last_month_all, difference_all)\n",
    "col2.metric(\"Android\", count_task_last_month_android, difference_android)\n",
    "col3.metric(\"iOS\", count_task_last_month_ios, difference_ios)\n",
    "col4.metric(\"Admins\", count_task_last_month_admins, difference_admins)\n",
    "col5.metric(\"WEB\", count_task_last_month_web, difference_web)"
   ]
  },
  {
   "cell_type": "code",
   "execution_count": 14,
   "metadata": {},
   "outputs": [
    {
     "data": {
      "text/plain": [
       "DeltaGenerator(_root_container=0, _provided_cursor=None, _parent=None, _block_type=None, _form_data=None)"
      ]
     },
     "execution_count": 14,
     "metadata": {},
     "output_type": "execute_result"
    }
   ],
   "source": [
    "# bar \"Количество созданных офферов в месяц\"\n",
    "\n",
    "cx = px.bar(offers_count_month, x='month_name', y='offer_id',\n",
    "            color='platform',\n",
    "            height=700,\n",
    "            width=1200,\n",
    "            title=\"Количество созданных офферов в месяц\",\n",
    "            labels={'offer_id':'Количество созданных офферов', 'platform':'Платформа создания', 'month_name':'Месяц'},\n",
    "            barmode = 'group',\n",
    "            text_auto=True)\n",
    "st.plotly_chart(cx)"
   ]
  },
  {
   "cell_type": "code",
   "execution_count": 15,
   "metadata": {},
   "outputs": [
    {
     "data": {
      "text/plain": [
       "DeltaGenerator(_root_container=0, _provided_cursor=None, _parent=None, _block_type=None, _form_data=None)"
      ]
     },
     "execution_count": 15,
     "metadata": {},
     "output_type": "execute_result"
    }
   ],
   "source": [
    "# bar Процент офферов через приложение\n",
    "\n",
    "cxx = px.bar(percentage_tasks_mobile, x='month_name', y='percentage_mobile',\n",
    "            height=700,\n",
    "            width=1200,\n",
    "            title=\"Процент офферов через приложение\",\n",
    "            labels={'month_name':'Месяц', 'percentage_mobile':'Процент задач через приложение'},\n",
    "            text_auto=True)\n",
    "st.plotly_chart(cxx)"
   ]
  },
  {
   "cell_type": "code",
   "execution_count": 68,
   "metadata": {},
   "outputs": [
    {
     "data": {
      "text/plain": [
       "DeltaGenerator(_root_container=0, _provided_cursor=None, _parent=None, _block_type=None, _form_data=None)"
      ]
     },
     "execution_count": 68,
     "metadata": {},
     "output_type": "execute_result"
    }
   ],
   "source": [
    "# bar Количество откликов\n",
    "\n",
    "cxxx = px.bar(сount_responds, x='month_name', y='count_responds',\n",
    "            height=700,\n",
    "            width=1200,\n",
    "            title=\"Количество откликов\",\n",
    "            labels={'month_name':'Месяц', 'count_responds':'Количество откликов'},\n",
    "            text_auto=True)\n",
    "st.plotly_chart(cxxx)"
   ]
  },
  {
   "cell_type": "code",
   "execution_count": 20,
   "metadata": {},
   "outputs": [
    {
     "data": {
      "text/plain": [
       "DeltaGenerator(_root_container=0, _provided_cursor=None, _parent=None, _block_type=None, _form_data=None)"
      ]
     },
     "execution_count": 20,
     "metadata": {},
     "output_type": "execute_result"
    }
   ],
   "source": [
    "# bar Процент офферов через приложение\n",
    "\n",
    "cxxxx = px.bar(сount_prematch, x='month_name', y='count_prematch',\n",
    "            height=700,\n",
    "            width=1200,\n",
    "            title=\"Количество матчей\",\n",
    "            labels={'month_name':'Месяц', 'count_prematch':'Количество матчей'},\n",
    "            text_auto=True)\n",
    "st.plotly_chart(cxxxx)"
   ]
  },
  {
   "cell_type": "code",
   "execution_count": 65,
   "metadata": {},
   "outputs": [
    {
     "data": {
      "text/plain": [
       "DeltaGenerator(_root_container=0, _provided_cursor=None, _parent=None, _block_type=None, _form_data=None)"
      ]
     },
     "execution_count": 65,
     "metadata": {},
     "output_type": "execute_result"
    }
   ],
   "source": [
    "# bar Процент офферов через приложение\n",
    "\n",
    "cxxxxx = px.bar(percentage_tasks_with_response, x='month_name', y='percentage_otklik',\n",
    "            height=700,\n",
    "            width=1200,\n",
    "            title=\"Процент задач с откликом\",\n",
    "            labels={'month_name':'Месяц', 'percentage_otklik':'Процент задач с откликом'},\n",
    "            text_auto=True)\n",
    "cxxxxx.update_yaxes(range=[0, 100])\n",
    "st.plotly_chart(cxxxxx)"
   ]
  },
  {
   "cell_type": "code",
   "execution_count": null,
   "metadata": {},
   "outputs": [],
   "source": []
  }
 ],
 "metadata": {
  "interpreter": {
   "hash": "aee8b7b246df8f9039afb4144a1f6fd8d2ca17a180786b69acc140d282b71a49"
  },
  "kernelspec": {
   "display_name": "Python 3.10.4 64-bit",
   "language": "python",
   "name": "python3"
  },
  "language_info": {
   "codemirror_mode": {
    "name": "ipython",
    "version": 3
   },
   "file_extension": ".py",
   "mimetype": "text/x-python",
   "name": "python",
   "nbconvert_exporter": "python",
   "pygments_lexer": "ipython3",
   "version": "3.10.4"
  },
  "orig_nbformat": 4
 },
 "nbformat": 4,
 "nbformat_minor": 2
}
