{
 "cells": [
  {
   "cell_type": "code",
   "execution_count": 1,
   "metadata": {},
   "outputs": [],
   "source": [
    "import pandas as pd\n",
    "import streamlit as st\n",
    "import plotly.express as px\n",
    "import numpy as np\n",
    "import plotly.graph_objects as go\n"
   ]
  },
  {
   "cell_type": "code",
   "execution_count": 2,
   "metadata": {},
   "outputs": [],
   "source": [
    "################################### параметры страницы ###################################"
   ]
  },
  {
   "cell_type": "code",
   "execution_count": 3,
   "metadata": {},
   "outputs": [
    {
     "name": "stderr",
     "output_type": "stream",
     "text": [
      "2022-08-09 16:52:42.899 \n",
      "  \u001b[33m\u001b[1mWarning:\u001b[0m to view this Streamlit app on a browser, run it with the following\n",
      "  command:\n",
      "\n",
      "    streamlit run /Users/arturfattahov/Library/Python/3.10/lib/python/site-packages/ipykernel_launcher.py [ARGUMENTS]\n"
     ]
    },
    {
     "data": {
      "text/plain": [
       "DeltaGenerator(_root_container=0, _provided_cursor=None, _parent=None, _block_type=None, _form_data=None)"
      ]
     },
     "execution_count": 3,
     "metadata": {},
     "output_type": "execute_result"
    }
   ],
   "source": [
    "st.title(\"Дашборд UrgY\")"
   ]
  },
  {
   "cell_type": "code",
   "execution_count": 4,
   "metadata": {},
   "outputs": [],
   "source": [
    "################################### основные вычисления ###################################"
   ]
  },
  {
   "cell_type": "code",
   "execution_count": 69,
   "metadata": {},
   "outputs": [],
   "source": [
    "count_task = st.file_uploader(\"Выбирете файл\")\n",
    "\n",
    "\n",
    "use_example_file = st.checkbox(\n",
    "    \"Использовать пример выгрузки\", False, help=\"Будет использована базовая выгрузка, c 1 апреля по 1 августа\"\n",
    ")\n",
    "\n",
    "# использование примера файла\n",
    "if use_example_file:\n",
    "    count_task = \"tasks_report(2022-08-09T09_17_08.636Z).csv\"\n",
    "\n",
    "\n",
    "# использование загруженного файла\n",
    "if count_task:\n",
    "    df = pd.read_csv(count_task, sep='|')\n",
    "    df = df.dropna()\n",
    "\n",
    "    df.rename(columns = {'id задачи' : 'offer_id',\n",
    "                     'Дата создания' : 'offer_created_at',\n",
    "                     'Платформа': 'platform',\n",
    "                     'Способ связи': 'communication_type',\n",
    "                     'Кол-во откликов': 'count_responds',\n",
    "                     'Кол-во матчей': 'count_prematch'}, inplace = True)\n",
    "\n",
    "    df['offer_created_at'] = pd.to_datetime(df['offer_created_at'])\n",
    "    df.offer_created_at = df.offer_created_at.values.astype('M8[D]')\n",
    "\n",
    "    df['count_responds'] = df['count_responds'].astype(int)\n",
    "    df['count_prematch'] = df['count_prematch'].astype(int)\n",
    "\n",
    "    df['platform'] = df['platform'].str.strip()\n",
    "\n",
    "\n",
    "with st.expander(\"Требования к загружаемому файлу\"):\n",
    "     st.info(\n",
    "        \"\"\"\n",
    "             👆 Загрузите файл с расширением csv или txt. В файле должны стого содержаться следующие столбцы:\n",
    "             - id оффера\n",
    "             - дата создания оффера\n",
    "             - платформа создания оффера\n",
    "             - количество прематчей на задачу\n",
    "             - количество матчей на задачу\n",
    "             \"\"\"\n",
    "    )\n",
    "\n",
    "\n",
    "if not count_task or not use_example_file:\n",
    "        st.stop()"
   ]
  },
  {
   "cell_type": "code",
   "execution_count": 6,
   "metadata": {},
   "outputs": [],
   "source": [
    "df['month'] = df['offer_created_at'].dt.month\n"
   ]
  },
  {
   "cell_type": "code",
   "execution_count": 4,
   "metadata": {},
   "outputs": [],
   "source": [
    "# df = pd.read_csv(\"/Users/arturfattahov/Downloads/tasks_report(2022-08-08T12_16_42.719Z).csv\", sep='|')\n",
    "\n",
    "# df = df.dropna()\n",
    "\n",
    "# df.rename(columns = {'id задачи' : 'offer_id',\n",
    "#                      'Дата создания' : 'offer_created_at',\n",
    "#                      'Платформа': 'platform',\n",
    "#                      'Способ связи': 'communication_type',\n",
    "#                      'Кол-во откликов': 'count_responds',\n",
    "#                      'Кол-во матчей': 'count_prematch'}, inplace = True)\n",
    "\n",
    "# df['offer_created_at'] = pd.to_datetime(df['offer_created_at'])\n",
    "# df.offer_created_at = df.offer_created_at.values.astype('M8[D]')\n",
    "\n",
    "# df['count_responds'] = df['count_responds'].astype(int)\n",
    "# df['count_prematch'] = df['count_prematch'].astype(int)\n",
    "\n",
    "# df['platform'] = df['platform'].str.strip()\n",
    "# df['month'] = df['offer_created_at'].dt.month"
   ]
  },
  {
   "cell_type": "code",
   "execution_count": 5,
   "metadata": {},
   "outputs": [],
   "source": [
    "months = {\n",
    "        1: 'Январь',\n",
    "        2: 'Февраль',\n",
    "        3: 'Март',\n",
    "        4: 'Апрель',\n",
    "        5: 'Май',\n",
    "        6: 'Июнь',\n",
    "        7: 'Июль',\n",
    "        8: 'Август',\n",
    "        9: 'Сентябрь',\n",
    "        10: 'Октябрь',\n",
    "        11: 'Ноябрь',\n",
    "        12: 'Декабрь'\n",
    "    }\n",
    "df['month_name'] = df['month'].apply(lambda x: months[x])\n",
    "\n",
    "\n",
    "monthss = {\n",
    "        'Январь': 1,\n",
    "        'Февраль': 2,\n",
    "        'Март': 3,\n",
    "        'Апрель': 4,\n",
    "        'Май': 5,\n",
    "        'Июнь': 6,\n",
    "        'Июль': 7,\n",
    "        'Август': 8,\n",
    "        'Сентябрь': 9,\n",
    "        'Октябрь': 10,\n",
    "        'Ноябрь': 11,\n",
    "        'Декабрь': 12\n",
    "    }"
   ]
  },
  {
   "cell_type": "code",
   "execution_count": 6,
   "metadata": {},
   "outputs": [],
   "source": [
    "################################## информация о текущем месяце, сравнение с предыдущем\n",
    "\n",
    "\n",
    "last_month = df['month'].max()\n",
    "pre_last_month = df['month'].max() - 1\n",
    "\n",
    "df_mob = df.query('platform == \"ios\" | platform == \"android\"')\n",
    "\n",
    "# общее количество задач\n",
    "count_task_last_month_all = df.query('month == @last_month').count()[0]\n",
    "count_task_pre_last_month_all = df.query('month == @pre_last_month').count()[0]\n",
    "difference_all = str(count_task_last_month_all - count_task_pre_last_month_all)\n",
    "\n",
    "\n",
    "# задачи через Android\n",
    "count_task_last_month_android = df.query('month == @last_month & platform == \"android\"').count()[0]\n",
    "count_task_pre_last_month_android = df.query('month == @pre_last_month & platform == \"android\"').count()[0]\n",
    "difference_android = str(count_task_last_month_android - count_task_pre_last_month_android)\n",
    "\n",
    "\n",
    "# задачи через Admins\n",
    "count_task_last_month_admins = df.query('month == @last_month & platform == \"admins\"').count()[0]\n",
    "count_task_pre_last_month_admins = df.query('month == @pre_last_month & platform == \"admins\"').count()[0]\n",
    "difference_admins = str(count_task_last_month_admins - count_task_pre_last_month_admins)\n",
    "\n",
    "\n",
    "# задачи через iOS\n",
    "count_task_last_month_ios = df.query('month == @last_month & platform == \"ios\"').count()[0]\n",
    "count_task_pre_last_month_ios = df.query('month == @pre_last_month & platform == \"ios\"').count()[0]\n",
    "difference_ios = str(count_task_last_month_ios - count_task_pre_last_month_ios)\n",
    "\n",
    "# задачи через web\n",
    "count_task_last_month_web = df.query('month == @last_month & platform == \"web\"').count()[0]\n",
    "count_task_pre_last_month_web = df.query('month == @pre_last_month & platform == \"web\"').count()[0]\n",
    "difference_web = str(count_task_last_month_web - count_task_pre_last_month_web)\n",
    "\n",
    "# задачи через mobile\n",
    "count_task_last_month_mob = df_mob.query('month == @last_month').count()[0]\n",
    "count_task_pre_last_month_mob = df_mob.query('month == @pre_last_month').count()[0]\n",
    "difference_mob = str(count_task_last_month_mob - count_task_pre_last_month_mob)"
   ]
  },
  {
   "cell_type": "code",
   "execution_count": 7,
   "metadata": {},
   "outputs": [],
   "source": [
    "################################## вычисления для построения pie за последний месяц\n",
    "\n",
    "\n",
    "count_task_platform_last_monht = (\n",
    "    df.query('month == @last_month & platform != \"-\"')\n",
    "    .pivot_table(index=[\"platform\"], values='offer_id', aggfunc='count'))\n",
    "\n",
    "count_task_platform_last_monht = count_task_platform_last_monht.reset_index()\n",
    "count_task_platform_last_monht.columns = ['platformm', 'count_task']\n",
    "\n",
    "\n",
    "count_task_platform_last_monht['all'] = df.query('month == @last_month').count()[0]\n",
    "count_task_platform_last_monht['persent'] = (count_task_platform_last_monht['count_task'] * 100 / count_task_platform_last_monht['all']).round(2)\n",
    "count_task_platform_last_monht['persent'] = count_task_platform_last_monht['persent'].astype(str)\n",
    "count_task_platform_last_monht['platform'] = count_task_platform_last_monht['platformm'] + ' ' + count_task_platform_last_monht['persent'] + '%'"
   ]
  },
  {
   "cell_type": "code",
   "execution_count": 8,
   "metadata": {},
   "outputs": [],
   "source": [
    "# ################################## Количество созданных офферов в месяц с разделением по платформе\n",
    "# # создание датафрейма для графика \"Количество созданных офферов в месяц\"\n",
    "\n",
    "# offers_count_month = (\n",
    "#     df.query('platform != \"''\"')\n",
    "#     .pivot_table(index=[\"month_name\", \"platform\"], values='offer_id', aggfunc='count'))\n",
    "\n",
    "# offers_count_month = offers_count_month.reset_index()"
   ]
  },
  {
   "cell_type": "code",
   "execution_count": 9,
   "metadata": {},
   "outputs": [],
   "source": [
    "df_mobile = df\n",
    "################################## Процент офферов через приложение\n",
    "# меняем ios и android на mobile\n",
    "\n",
    "df_mobile['platform'] = np.where((df_mobile.platform == \"ios\"), \"mobile\", df_mobile.platform)\n",
    "df_mobile['platform'] = np.where((df_mobile.platform == \"android\"), \"mobile\", df_mobile.platform)\n",
    "\n",
    "\n",
    "# датафрейм со всеми задачами в месяц, без разделения по платформам\n",
    "all_task_month = (\n",
    "    df_mobile.query('platform != \"-\"')\n",
    "    .pivot_table(index=[\"month_name\"], values='offer_id', aggfunc='count'))\n",
    "all_task_month = all_task_month.reset_index()\n",
    "\n",
    "\n",
    "# датафрейм с задачами через мобильное приложение\n",
    "percentage_tasks_mobile = (\n",
    "    df_mobile.query('platform == \"mobile\"')\n",
    "    .pivot_table(index=[\"month_name\"], values='offer_id', aggfunc='count'))\n",
    "percentage_tasks_mobile = percentage_tasks_mobile.reset_index()\n",
    "\n",
    "\n",
    "# мердж двух таблиц\n",
    "percentage_tasks_mobile = percentage_tasks_mobile.merge(all_task_month, left_on='month_name', right_on='month_name')\n",
    "percentage_tasks_mobile.columns = ['month_name', 'mobile', 'all']\n",
    "\n",
    "\n",
    "# рассчет процентов задач через приложение\n",
    "percentage_tasks_mobile['percentage_mobile'] = percentage_tasks_mobile['mobile'] * 100 / percentage_tasks_mobile['all']\n",
    "percentage_tasks_mobile['percentage_mobile'] = percentage_tasks_mobile['percentage_mobile'].round(2)\n",
    "\n",
    "\n",
    "percentage_tasks_mobile['monthh'] = percentage_tasks_mobile['month_name'].apply(lambda x: monthss[x])\n",
    "percentage_tasks_mobile = percentage_tasks_mobile.sort_values(by=['monthh'])\n",
    "percentage_tasks_mobile = percentage_tasks_mobile.reset_index()\n",
    "\n",
    "####\n",
    "last_m = max(percentage_tasks_mobile.index)\n",
    "pre_last_m = last_m - 1\n",
    "\n",
    "persent_mob_last = str(percentage_tasks_mobile['percentage_mobile'][last_m]) + '%'\n",
    "dif = percentage_tasks_mobile['percentage_mobile'][last_m] - percentage_tasks_mobile['percentage_mobile'][pre_last_m]\n",
    "dif = dif.round(2)\n"
   ]
  },
  {
   "cell_type": "code",
   "execution_count": 10,
   "metadata": {},
   "outputs": [],
   "source": [
    "# рассчеты для графика количества откликов и прематчей\n",
    "\n",
    "сount_responds = (\n",
    "    df.query('platform != \"-\"')\n",
    "    .pivot_table(index=[\"month_name\"], values='count_responds', aggfunc='sum'))\n",
    "сount_responds = сount_responds.reset_index()\n",
    "\n",
    "сount_prematch = (\n",
    "    df.query('platform != \"-\"')\n",
    "    .pivot_table(index=[\"month_name\"], values='count_prematch', aggfunc='sum'))\n",
    "сount_prematch = сount_prematch.reset_index()\n",
    "\n",
    "сount_prematch_responds = сount_prematch.merge(сount_responds, left_on='month_name', right_on='month_name')\n",
    "сount_prematch_responds['monthh'] = сount_prematch_responds['month_name'].apply(lambda x: monthss[x])\n",
    "сount_prematch_responds = сount_prematch_responds.sort_values(by=['monthh'])"
   ]
  },
  {
   "cell_type": "code",
   "execution_count": 11,
   "metadata": {},
   "outputs": [],
   "source": [
    "percentage_tasks_with_response = (\n",
    "    df.query('platform != \"-\" & count_responds > 0')\n",
    "    .pivot_table(index=[\"month_name\"], values='count_prematch', aggfunc='count'))\n",
    "percentage_tasks_with_response = percentage_tasks_with_response.reset_index()\n",
    "\n",
    "\n",
    "\n",
    "percentage_tasks_with_response = percentage_tasks_with_response.merge(all_task_month, left_on='month_name', right_on='month_name')\n",
    "percentage_tasks_with_response = percentage_tasks_with_response.rename(columns={'offer_id': 'count_no_prematch'})\n",
    "\n",
    "\n",
    "# рассчет процентов задач через приложение\n",
    "percentage_tasks_with_response['percentage_otklik'] = percentage_tasks_with_response['count_prematch'] * 100 / percentage_tasks_with_response['count_no_prematch']\n",
    "percentage_tasks_with_response['percentage_otklik'] = percentage_tasks_with_response['percentage_otklik'].round(0)\n",
    "percentage_tasks_with_response['monthh'] = percentage_tasks_with_response['month_name'].apply(lambda x: monthss[x])\n",
    "percentage_tasks_with_response = percentage_tasks_with_response.sort_values(by=['monthh'])"
   ]
  },
  {
   "cell_type": "code",
   "execution_count": 12,
   "metadata": {},
   "outputs": [],
   "source": [
    "################################### графики и отображаемые элементы ###################################"
   ]
  },
  {
   "cell_type": "code",
   "execution_count": 13,
   "metadata": {},
   "outputs": [
    {
     "data": {
      "text/plain": [
       "'DeltaGenerator(_root_container=0, _provided_cursor=None, _parent=None, _block_type=None, _form_data=None)'"
      ]
     },
     "execution_count": 13,
     "metadata": {},
     "output_type": "execute_result"
    }
   ],
   "source": [
    "# метрики с количеством задач\n",
    "\n",
    "col1, col2, col3, col4, col5, col6 = st.columns(6)\n",
    "col1.metric(\"All\", count_task_last_month_all, difference_all)\n",
    "col2.metric(\"Android\", count_task_last_month_android, difference_android)\n",
    "col3.metric(\"iOS\", count_task_last_month_ios, difference_ios)\n",
    "col4.metric(\"Admins\", count_task_last_month_admins, difference_admins)\n",
    "col5.metric(\"WEB\", count_task_last_month_web, difference_web)\n",
    "col6.metric(\"Mobile\", persent_mob_last, dif)"
   ]
  },
  {
   "cell_type": "code",
   "execution_count": 14,
   "metadata": {},
   "outputs": [
    {
     "data": {
      "text/plain": [
       "DeltaGenerator(_root_container=0, _provided_cursor=None, _parent=None, _block_type=None, _form_data=None)"
      ]
     },
     "execution_count": 14,
     "metadata": {},
     "output_type": "execute_result"
    }
   ],
   "source": [
    "# pie с процентом задач по платформам\n",
    "\n",
    "\n",
    "fig = px.pie(\n",
    "    count_task_platform_last_monht,\n",
    "    values='count_task',\n",
    "    names='platform',\n",
    "    title='Распределение задач по платформе',\n",
    "    labels={\n",
    "                \"platform\": \"Платформа\",  \"count_task\": \"Количество задач\"\n",
    "            })\n",
    "\n",
    "st.plotly_chart(fig)"
   ]
  },
  {
   "cell_type": "code",
   "execution_count": 15,
   "metadata": {},
   "outputs": [],
   "source": [
    "# bar \"Количество созданных офферов в месяц\"\n",
    "\n",
    "# cx = px.bar(offers_count_month, x='month_name', y='offer_id',\n",
    "#             color='platform',\n",
    "#             title=\"Количество созданных офферов в месяц\",\n",
    "#             labels={'offer_id':'Количество созданных офферов', 'platform':'Платформа создания', 'month_name':'Месяц'},\n",
    "#             barmode = 'group',\n",
    "#             text_auto=True)\n",
    "# st.plotly_chart(cx)"
   ]
  },
  {
   "cell_type": "code",
   "execution_count": 16,
   "metadata": {},
   "outputs": [],
   "source": [
    "# # bar Процент офферов через приложение\n",
    "\n",
    "# cxx = px.bar(percentage_tasks_mobile, x='month_name', y='percentage_mobile',\n",
    "#             title=\"Процент офферов через приложение\",\n",
    "#             labels={'month_name':'Месяц', 'percentage_mobile':'Процент задач через приложение'},\n",
    "#             text_auto=True)\n",
    "# st.plotly_chart(cxx)"
   ]
  },
  {
   "cell_type": "code",
   "execution_count": 17,
   "metadata": {},
   "outputs": [],
   "source": [
    "# # bar Количество откликов\n",
    "\n",
    "# cxxx = px.bar(сount_responds, x='month_name', y='count_responds',\n",
    "#             title=\"Количество откликов\",\n",
    "#             labels={'month_name':'Месяц', 'count_responds':'Количество откликов'},\n",
    "#             text_auto=True)\n",
    "# st.plotly_chart(cxxx)"
   ]
  },
  {
   "cell_type": "code",
   "execution_count": 18,
   "metadata": {},
   "outputs": [],
   "source": [
    "# # bar Процент офферов через приложение\n",
    "\n",
    "# cxxxx = px.bar(сount_prematch, x='month_name', y='count_prematch',\n",
    "#             title=\"Количество матчей\",\n",
    "#             labels={'month_name':'Месяц', 'count_prematch':'Количество матчей'},\n",
    "#             text_auto=True)\n",
    "# st.plotly_chart(cxxxx)"
   ]
  },
  {
   "cell_type": "code",
   "execution_count": 19,
   "metadata": {},
   "outputs": [
    {
     "data": {
      "text/plain": [
       "DeltaGenerator(_root_container=0, _provided_cursor=None, _parent=None, _block_type=None, _form_data=None)"
      ]
     },
     "execution_count": 19,
     "metadata": {},
     "output_type": "execute_result"
    }
   ],
   "source": [
    "# bar отклики и прематчи\n",
    "\n",
    "cxdd = px.bar(сount_prematch_responds, x='month_name', y=['count_prematch','count_responds'],\n",
    "            title=\"Количество прематчей и матчей\",\n",
    "            labels={'variable':'Тип отклика', 'value':'Количество', 'month_name':'Месяц'},\n",
    "            barmode='group',\n",
    "            text_auto=True)\n",
    "st.plotly_chart(cxdd)\n",
    "#cxdd.show()"
   ]
  },
  {
   "cell_type": "code",
   "execution_count": 20,
   "metadata": {},
   "outputs": [
    {
     "data": {
      "text/plain": [
       "DeltaGenerator(_root_container=0, _provided_cursor=None, _parent=None, _block_type=None, _form_data=None)"
      ]
     },
     "execution_count": 20,
     "metadata": {},
     "output_type": "execute_result"
    }
   ],
   "source": [
    "# bar Процент задач с откликом\n",
    "\n",
    "figi = go.Figure([go.Bar(x=percentage_tasks_with_response['month_name'], y=percentage_tasks_with_response['percentage_otklik'], texttemplate = \"%{y}%\")])\n",
    "figi.update_layout(\n",
    "                  title=\"Процент задач с откликом\",\n",
    "                  xaxis_title=\"Месяц\",\n",
    "                  yaxis_title=\"Процент задач с откликом\",)\n",
    "st.plotly_chart(figi)\n"
   ]
  },
  {
   "cell_type": "code",
   "execution_count": 68,
   "metadata": {},
   "outputs": [
    {
     "data": {
      "text/plain": [
       "DeltaGenerator(_root_container=0, _provided_cursor=None, _parent=None, _block_type=None, _form_data=None)"
      ]
     },
     "execution_count": 68,
     "metadata": {},
     "output_type": "execute_result"
    }
   ],
   "source": [
    "df_mobile_only = df_mobile.query('platform == \"mobile\"')\n",
    "\n",
    "сount_in_app = (\n",
    "    df_mobile_only.query('communication_type == \"через приложение\"')\n",
    "    .pivot_table(index=[\"month_name\"], values='count_responds', aggfunc='count'))\n",
    "сount_in_app = сount_in_app.reset_index()\n",
    "\n",
    "сount_in_phone = (\n",
    "    df_mobile_only.query('communication_type == \"через телефон\"')\n",
    "    .pivot_table(index=[\"month_name\"], values='count_responds', aggfunc='count'))\n",
    "сount_in_phone = сount_in_phone.reset_index()\n",
    "\n",
    "type_comm = сount_in_app.merge(сount_in_phone, left_on='month_name', right_on='month_name')\n",
    "type_comm['monthh'] = type_comm['month_name'].apply(lambda x: monthss[x])\n",
    "type_comm = type_comm.sort_values(by=['monthh'])\n",
    "type_comm['all'] = type_comm['count_responds_x'] + type_comm['count_responds_y']\n",
    "\n",
    "type_comm['percent_phone'] = type_comm['count_responds_y'] * 100 / type_comm['all']\n",
    "type_comm['percent_phone'] = type_comm['percent_phone'].round(2)\n",
    "\n",
    "type_comm['percent_app'] = type_comm['count_responds_x'] * 100 / type_comm['all']\n",
    "type_comm['percent_app'] = type_comm['percent_app'].round(2)\n",
    "\n",
    "\n",
    "figj = go.Figure(data=[\n",
    "    go.Bar(name='Через телефон', x=type_comm['month_name'], y=type_comm['percent_phone'], texttemplate = \"%{y}%\"),\n",
    "    go.Bar(name='Через приложение',x=type_comm['month_name'], y=type_comm['percent_app'], texttemplate = \"%{y}%\"),\n",
    "])\n",
    "# Change the bar mode\n",
    "\n",
    "figj.update_layout(\n",
    "                  title=\"Распределение типов связи\",\n",
    "                  xaxis_title=\"Месяц\",\n",
    "                  yaxis_title=\"Процент типа связи\",\n",
    "                  barmode='group',)\n",
    "\n",
    "st.plotly_chart(figj)"
   ]
  }
 ],
 "metadata": {
  "interpreter": {
   "hash": "aee8b7b246df8f9039afb4144a1f6fd8d2ca17a180786b69acc140d282b71a49"
  },
  "kernelspec": {
   "display_name": "Python 3.10.4 64-bit",
   "language": "python",
   "name": "python3"
  },
  "language_info": {
   "codemirror_mode": {
    "name": "ipython",
    "version": 3
   },
   "file_extension": ".py",
   "mimetype": "text/x-python",
   "name": "python",
   "nbconvert_exporter": "python",
   "pygments_lexer": "ipython3",
   "version": "3.10.4"
  },
  "orig_nbformat": 4
 },
 "nbformat": 4,
 "nbformat_minor": 2
}
